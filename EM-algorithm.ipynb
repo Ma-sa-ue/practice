{
 "cells": [
  {
   "cell_type": "code",
   "execution_count": null,
   "metadata": {
    "collapsed": true
   },
   "outputs": [],
   "source": []
  },
  {
   "cell_type": "markdown",
   "metadata": {},
   "source": [
    "EM-algorithm\n",
    "\n",
    "### L2 regularization\n",
    "\n",
    "$p(y|x)=N(Hx,\\beta^{-1}I)$\n",
    "\n",
    "$p(x)=N(0,\\alpha^{-1}I)$\n",
    "\n",
    "we cant oveserve only y.\n",
    "\n",
    "SO we want to find the $\\alpha,\\beta $ that maximize $p(y|\\alpha,\\beta)$(marginal likelihood)\n",
    "\n"
   ]
  },
  {
   "cell_type": "code",
   "execution_count": 296,
   "metadata": {
    "collapsed": false
   },
   "outputs": [
    {
     "name": "stdout",
     "output_type": "stream",
     "text": [
      "[ 0.02682002 -0.03769605]\n"
     ]
    }
   ],
   "source": [
    "## generate y giben alpha=2.0,beta=2.0\n",
    "import numpy as np\n",
    "\n",
    "H = np.identity(2)*3\n",
    "#np.random.shuffle(H)\n",
    "H = np.reshape(H[np.newaxis,:],(2,2))\n",
    "x_array=[]\n",
    "y_array=[]\n",
    "for i in range(0,100):\n",
    "    x = np.random.normal(0,0.5,2)\n",
    "    y =np.dot(H,np.transpose(x))+np.random.normal(0,0.5,2)\n",
    "    y = y[:,np.newaxis]\n",
    "    x_array.append(x)\n",
    "    y_array.append(y)\n",
    "\n",
    "print np.mean(x_array,0)"
   ]
  },
  {
   "cell_type": "code",
   "execution_count": 298,
   "metadata": {
    "collapsed": false
   },
   "outputs": [
    {
     "name": "stdout",
     "output_type": "stream",
     "text": [
      "[[ 9.  0.]\n",
      " [ 0.  9.]]\n",
      "5.0\n"
     ]
    },
    {
     "data": {
      "image/png": "[encoded data removed]",
      "text/plain": [
       "<matplotlib.figure.Figure at 0x11209bf50>"
      ]
     },
     "metadata": {},
     "output_type": "display_data"
    },
    {
     "data": {
      "image/png": "[encoded data removed]",
      "text/plain": [
       "<matplotlib.figure.Figure at 0x1121fd9d0>"
      ]
     },
     "metadata": {},
     "output_type": "display_data"
    },
    {
     "data": {
      "image/png": "[encoded data removed]",
      "text/plain": [
       "<matplotlib.figure.Figure at 0x112197c50>"
      ]
     },
     "metadata": {},
     "output_type": "display_data"
    }
   ],
   "source": [
    "import numpy as np\n",
    "import matplotlib.pyplot as plt\n",
    "\n",
    "## initilize\n",
    "alpha=2.0\n",
    "beta=0.5\n",
    "## cacluete H^t*H\n",
    "HH = np.dot(np.transpose(H),H)\n",
    "print HH\n",
    "print np.linalg.norm([3,4])\n",
    "alpha_array=[]\n",
    "beta_array=[]\n",
    "marge_array=[]\n",
    "for j in range(0,30):\n",
    "    ##E-step we calculde p(x|y,alpha,beta)=N(x|pesdp_x,D^{-1})\n",
    "    D = alpha*np.identity(2) + beta*HH\n",
    "    ##print D\n",
    "    x_pesdo = np.array([beta*np.linalg.solve(D,np.dot(np.transpose(H),i)) for i in y_array])\n",
    "    ## M-step \n",
    "    x_pesdo_norm = np.array([np.linalg.norm(i) for i in x_pesdo])\n",
    "    alpha = np.power(np.mean(x_pesdo_norm)+np.trace(np.linalg.inv(D)),-1)*2.0\n",
    "    ##print alpha\n",
    "    alpha_array.append(alpha)\n",
    "    res_norm  = np.array([np.linalg.norm(j-np.dot(H,i)) for i,j in zip(x_pesdo,y_array)])\n",
    "    beta = np.power(np.mean(res_norm)+np.trace(np.dot(HH,np.linalg.inv(D))),-1)*2.0\n",
    "    ##print beta\n",
    "    beta_array.append(beta)\n",
    "    ## marginal likelihood\n",
    "    E = np.power(beta,-1)*np.identity(2)+np.power(alpha,-1)*np.dot(H,np.transpose(H))\n",
    "    margi_y=[-0.5*np.linalg.det(E)-0.5*np.dot(np.transpose(i),np.dot(np.linalg.inv(E),i))  for i in y_array]\n",
    "    marge_array.append(np.mean(margi_y))\n",
    "    \n",
    "%matplotlib inline\n",
    "plt.title(\"alpha\")\n",
    "plt.plot(alpha_array)\n",
    "plt.show()\n",
    "plt.title(\"beta\")\n",
    "plt.plot(beta_array)\n",
    "plt.show()\n",
    "plt.title(\"marginal likelihood\")\n",
    "plt.plot(marge_array)\n",
    "plt.show()\n",
    "###x_pesdo = beta*np.transpose(np.transpose(np.invert(HH),np.transpose(H)),y)"
   ]
  }
 ],
 "metadata": {
  "kernelspec": {
   "display_name": "Python 2",
   "language": "python",
   "name": "python2"
  },
  "language_info": {
   "codemirror_mode": {
    "name": "ipython",
    "version": 2
   },
   "file_extension": ".py",
   "mimetype": "text/x-python",
   "name": "python",
   "nbconvert_exporter": "python",
   "pygments_lexer": "ipython2",
   "version": "2.7.6"
  }
 },
 "nbformat": 4,
 "nbformat_minor": 0
}
