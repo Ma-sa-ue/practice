{
 "cells": [
  {
   "cell_type": "code",
   "execution_count": 3,
   "metadata": {
    "collapsed": false
   },
   "outputs": [
    {
     "name": "stderr",
     "output_type": "stream",
     "text": [
      "/System/Library/Frameworks/Python.framework/Versions/2.7/Extras/lib/python/matplotlib/collections.py:548: FutureWarning: elementwise comparison failed; returning scalar instead, but in the future will perform elementwise comparison\n",
      "  if self._edgecolors == 'face':\n"
     ]
    }
   ],
   "source": [
    "from matplotlib import pyplot as PLT\n",
    "from matplotlib import cm as CM\n",
    "from matplotlib import mlab as ML\n",
    "import numpy as NP\n",
    "\n",
    "n = 1e5\n",
    "x = y = NP.linspace(-5, 5, 100)\n",
    "X, Y = NP.meshgrid(x, y)\n",
    "Z1 = ML.bivariate_normal(X, Y, 2, 2, 0, 0)\n",
    "Z2 = ML.bivariate_normal(X, Y, 4, 1, 1, 1)\n",
    "\n",
    "ZD = Z2 - Z1\n",
    "x = X.ravel()\n",
    "y = Y.ravel()\n",
    "z = ZD.ravel()\n",
    "gridsize=30\n",
    "PLT.subplot(111)\n",
    "\n",
    "\n",
    "# if 'bins=None', then color of each hexagon corresponds directly to its count\n",
    "# 'C' is optional--it maps values to x-y coordinates; if 'C' is None (default) then \n",
    "# the result is a pure 2D histogram \n",
    "\n",
    "PLT.hexbin(x, y, C=z, gridsize=gridsize, cmap=CM.jet, bins=None)\n",
    "PLT.axis([x.min(), x.max(), y.min(), y.max()])\n",
    "\n",
    "cb = PLT.colorbar()\n",
    "cb.set_label('mean value')\n",
    "PLT.show()   "
   ]
  }
 ],
 "metadata": {
  "kernelspec": {
   "display_name": "Python 2",
   "language": "python",
   "name": "python2"
  },
  "language_info": {
   "codemirror_mode": {
    "name": "ipython",
    "version": 2
   },
   "file_extension": ".py",
   "mimetype": "text/x-python",
   "name": "python",
   "nbconvert_exporter": "python",
   "pygments_lexer": "ipython2",
   "version": "2.7.6"
  }
 },
 "nbformat": 4,
 "nbformat_minor": 0
}
