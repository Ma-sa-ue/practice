{
 "cells": [
  {
   "cell_type": "markdown",
   "metadata": {},
   "source": [
    "## GIbbs samplers \n",
    "\n"
   ]
  },
  {
   "cell_type": "markdown",
   "metadata": {},
   "source": [
    "### 1\n",
    "Assume that $x|\\theta - Bin(n,\\theta)$, $\\theta - Be(a,b)$\n",
    "\n",
    "we want to sample the joint distribution"
   ]
  },
  {
   "cell_type": "code",
   "execution_count": 38,
   "metadata": {
    "collapsed": false
   },
   "outputs": [
    {
     "data": {
      "image/png": "[encoded data removed]",
      "text/plain": [
       "<matplotlib.figure.Figure at 0x1152dbe50>"
      ]
     },
     "metadata": {},
     "output_type": "display_data"
    }
   ],
   "source": [
    "import numpy as np\n",
    "import matplotlib.pyplot as plt\n",
    "import  scipy.stats  as st\n",
    "%matplotlib inline\n",
    "\n",
    "def ecdf(x):\n",
    "    x= x / np.sum(x)\n",
    "    return np.cumsum(x)\n",
    "a=3\n",
    "b=7\n",
    "n = 15\n",
    "x=[]\n",
    "theta=[]\n",
    "## start gibbs sampling\n",
    "T = np.random.beta(a,b)\n",
    "theta.append(T)\n",
    "x.append(np.random.binomial(n,T))\n",
    "for i in range(1,1000):\n",
    "    x_pesdo = np.random.binomial(n,theta[-1])\n",
    "    x.append(x_pesdo)\n",
    "    T_pesdo = np.random.beta(a+x[-1],n-x[-1]+b)\n",
    "    theta.append(T_pesdo)\n",
    "\n",
    "### \n",
    "\n",
    "plt.hist(x,bins=30)\n",
    "plt.show()\n",
    "###for i in range(0,100):\n",
    "## x.append(np.random.binomial(T[-1])"
   ]
  },
  {
   "cell_type": "markdown",
   "metadata": {},
   "source": [
    "### 2\n",
    "we assume that \n",
    "\n",
    "$x_i - N(\\theta,\\sigma^2)$\n",
    "\n",
    "$\\theta - N(\\theta_{0},\\tau^2$\n",
    "\n",
    "$\\sigma^2 - inv_gamma(a,b)$\n",
    "\n",
    "we want to sample from the posterior $N(\\theta,\\sigma^2|x)$"
   ]
  },
  {
   "cell_type": "code",
   "execution_count": 133,
   "metadata": {
    "collapsed": false
   },
   "outputs": [
    {
     "name": "stdout",
     "output_type": "stream",
     "text": [
      "16\n",
      "6.77078942391\n",
      "4.91265488574\n",
      "[0.05137370375159322, 0.0001637275124549423, 0.01618347596358274, 0.4118629756136731]\n"
     ]
    },
    {
     "data": {
      "image/png": "[encoded data removed]",
      "text/plain": [
       "<matplotlib.figure.Figure at 0x10da12b50>"
      ]
     },
     "metadata": {},
     "output_type": "display_data"
    },
    {
     "data": {
      "image/png": "[encoded data removed]",
      "text/plain": [
       "<matplotlib.figure.Figure at 0x114ed3310>"
      ]
     },
     "metadata": {},
     "output_type": "display_data"
    }
   ],
   "source": [
    "import numpy as np\n",
    "import matplotlib.pyplot as plt\n",
    "import scipy.stats as st\n",
    "### assumption\n",
    "a = 3\n",
    "b = 3\n",
    "theta_0 = 5\n",
    "tau = np.power(10,0.5)\n",
    "\n",
    "x=[91,504,557,609,693,727,764,803,857,929,970,1043,1089,1195,1384,1713]\n",
    "n = len(x)\n",
    "print n\n",
    "###initilize\n",
    "theta =1.0\n",
    "sigma_square = 100.0\n",
    "theta_array=[]\n",
    "sigma_array=[]\n",
    "print np.log(872)\n",
    "print np.log(136)\n",
    "\n",
    "### start gibbs_sampling\n",
    "for i in range(0,1000):\n",
    "    aaa = theta_0*sigma_square/(sigma_square+n*np.power(tau,2))\n",
    "    bbb = n*np.power(tau,2)/(sigma_square+n*np.power(tau,2))*np.mean(x)\n",
    "    theta_mean = aaa+bbb\n",
    "    theta_vari = sigma_square*np.power(tau,2)/(sigma_square+n*np.power(tau,2))\n",
    "    theta  = np.random.normal(theta_mean,theta_vari)\n",
    "    theta_array.append(theta)\n",
    "    sigma_a= n/2.0+a\n",
    "    sigma_b = 0.5*np.sum(np.array([np.power(i-theta,2) for i in x]))+b\n",
    "    sigma_square = 1/np.random.gamma(shape=1/sigma_a,scale=sigma_b)\n",
    "    sigma_array.append(sigma_square)\n",
    "\n",
    "ll=[]\n",
    "'''\n",
    "for i in range(0,1000):\n",
    "    ll.append(st.invgamma.rvs(2,30))\n",
    "plt.xlim([0,100])\n",
    "plt.hist(ll,bins=200)\n",
    "plt.show()\n",
    "'''\n",
    "plt.hist(np.array(theta_array[-200:]),bins=30)\n",
    "plt.show()\n",
    "plt.hist(np.array(sigma_array[-200:]),bins=30)\n",
    "plt.show()"
   ]
  },
  {
   "cell_type": "markdown",
   "metadata": {},
   "source": [
    "### 3 \n",
    "$(z,a-z,b,c,d)$-$M(n;1/2,\\theta /4,0.25*(1-\\theta),0.25*(1-\\theta),\\theta/4$\n",
    "we only know a,b,c,d.\n",
    "We want to find the true theta"
   ]
  },
  {
   "cell_type": "code",
   "execution_count": 120,
   "metadata": {
    "collapsed": false
   },
   "outputs": [
    {
     "data": {
      "image/png": "[encoded data removed]",
      "text/plain": [
       "<matplotlib.figure.Figure at 0x114d0cc10>"
      ]
     },
     "metadata": {},
     "output_type": "display_data"
    },
    {
     "data": {
      "image/png": "[encoded data removed]",
      "text/plain": [
       "<matplotlib.figure.Figure at 0x114dcff90>"
      ]
     },
     "metadata": {},
     "output_type": "display_data"
    }
   ],
   "source": [
    "import numpy as np\n",
    "import matplotlib.pyplot as plt\n",
    "## asumption\n",
    "a=125\n",
    "b=18\n",
    "c=20\n",
    "d=34\n",
    "theta=1.0\n",
    "z=1.0\n",
    "theta_array=[]\n",
    "z_array=[]\n",
    "for i in range(0,1000):\n",
    "    theta = np.random.beta(z+d+1,b+c+1)\n",
    "    theta_array.append(theta)\n",
    "    z = np.random.binomial(a,theta/(2+theta))\n",
    "    z_array.append(z)\n",
    "\n",
    "plt.hist(theta_array,bins=30)\n",
    "plt.show()\n",
    "plt.hist(z_array,bins=30)\n",
    "plt.show()"
   ]
  }
 ],
 "metadata": {
  "kernelspec": {
   "display_name": "Python 2",
   "language": "python",
   "name": "python2"
  },
  "language_info": {
   "codemirror_mode": {
    "name": "ipython",
    "version": 2
   },
   "file_extension": ".py",
   "mimetype": "text/x-python",
   "name": "python",
   "nbconvert_exporter": "python",
   "pygments_lexer": "ipython2",
   "version": "2.7.6"
  }
 },
 "nbformat": 4,
 "nbformat_minor": 0
}
