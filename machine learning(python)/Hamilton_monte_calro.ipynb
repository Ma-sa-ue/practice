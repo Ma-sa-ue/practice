{
 "cells": [
  {
   "cell_type": "markdown",
   "metadata": {},
   "source": [
    "## HMC\n",
    "\n",
    "$f(x|\\theta)~poisson$ \n",
    "$f(\\theta)~gamma$ \n",
    "\n",
    "$f(\\theta|x)~gamma$ <- we want to know( it is poropositional to $e^{-13\\theta}\\theta^{10}$)"
   ]
  },
  {
   "cell_type": "code",
   "execution_count": 18,
   "metadata": {
    "collapsed": true
   },
   "outputs": [],
   "source": [
    "import numpy as np\n",
    "import matplotlib.pyplot as plt\n",
    "import scipy.stats as st\n",
    "%matplotlib inline\n",
    "\n",
    "lambda_ =13\n",
    "alpha = 11"
   ]
  },
  {
   "cell_type": "code",
   "execution_count": 54,
   "metadata": {
    "collapsed": false
   },
   "outputs": [],
   "source": [
    "#### oriignal distirbution\n",
    "def posterior(x):\n",
    "    return np.exp(-13*x)*np.power(x,alpha-1)\n",
    "#### potential engergy(log)\n",
    "def potential(x):\n",
    "    return lambda_*x - (alpha-1)*np.log(x)\n",
    "### diffrential of potential energy\n",
    "def diff_potential(x):\n",
    "    return lambda_ - (alpha-1)/x\n",
    "#### leap-frog-method\n",
    "def leap_frog(theta,_p,L,epsilon):\n",
    "    for i in range(L):\n",
    "        p_half = _p - epsilon*0.5*diff_potential(theta)\n",
    "        theta = theta + epsilon * p_half\n",
    "        _p = p_half - epsilon*0.5*diff_potential(theta)\n",
    "    return (theta,_p)\n",
    "\n",
    "        "
   ]
  },
  {
   "cell_type": "code",
   "execution_count": 130,
   "metadata": {
    "collapsed": false
   },
   "outputs": [],
   "source": [
    "### initial state\n",
    "L = 100\n",
    "T = 1000\n",
    "epsilon = 0.01\n",
    "theta1 = 3.0 \n",
    "p = 0.0\n",
    "answer=[]\n",
    "######\n",
    "for i in range(T):\n",
    "    p = np.random.normal(0.1)\n",
    "    theta_candidate,p_candidate = leap_frog(theta1,p,L,epsilon)\n",
    "    ##print theta1,p\n",
    "    ##print theta_candidate,p_candidate\n",
    "    judge = np.random.uniform(0,1)\n",
    "    judge2 = posterior(theta_candidate)*st.norm.pdf(p_candidate,0,1)\n",
    "    judge3 = posterior(theta1)*st.norm.pdf(p,0,1)\n",
    "    judge4 =  judge2/judge3\n",
    "    ###print \"a\"\n",
    "    if judge < judge4:\n",
    "        theta1 = theta_candidate\n",
    "        answer.append(theta_candidate)"
   ]
  },
  {
   "cell_type": "code",
   "execution_count": 131,
   "metadata": {
    "collapsed": false
   },
   "outputs": [
    {
     "name": "stdout",
     "output_type": "stream",
     "text": [
      "1000\n",
      "acceptance rate,1.000000\n",
      "expectance 0.824754\n"
     ]
    },
    {
     "data": {
      "image/png": "[encoded data removed]",
      "text/plain": [
       "<matplotlib.figure.Figure at 0x107e978d0>"
      ]
     },
     "metadata": {},
     "output_type": "display_data"
    }
   ],
   "source": [
    "print len(answer)\n",
    "print \"acceptance rate,%f\"%(len(answer)/(T*1.0))\n",
    "print \"expectance %f\"%np.mean(answer)\n",
    "plt.subplot(1,2,1)\n",
    "plt.plot(answer)\n",
    "plt.subplot(1,2,2)\n",
    "plt.hist(answer)\n",
    "plt.show()"
   ]
  },
  {
   "cell_type": "code",
   "execution_count": null,
   "metadata": {
    "collapsed": true
   },
   "outputs": [],
   "source": []
  }
 ],
 "metadata": {
  "kernelspec": {
   "display_name": "Python 2",
   "language": "python",
   "name": "python2"
  },
  "language_info": {
   "codemirror_mode": {
    "name": "ipython",
    "version": 2
   },
   "file_extension": ".py",
   "mimetype": "text/x-python",
   "name": "python",
   "nbconvert_exporter": "python",
   "pygments_lexer": "ipython2",
   "version": "2.7.6"
  }
 },
 "nbformat": 4,
 "nbformat_minor": 0
}
