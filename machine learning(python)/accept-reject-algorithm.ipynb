{
 "cells": [
  {
   "cell_type": "markdown",
   "metadata": {},
   "source": [
    "Accept-Rejct Algorithm\n",
    "\n",
    "\n",
    "a=2.7\n",
    "b=6.3\n",
    "Y ~ beta(2,6)"
   ]
  },
  {
   "cell_type": "code",
   "execution_count": 35,
   "metadata": {
    "collapsed": false
   },
   "outputs": [
    {
     "name": "stdout",
     "output_type": "stream",
     "text": [
      "acceptance rate\n",
      "0.9213\n"
     ]
    },
    {
     "data": {
      "image/png": "[encoded data removed]",
      "text/plain": [
       "<matplotlib.figure.Figure at 0x112df1450>"
      ]
     },
     "metadata": {},
     "output_type": "display_data"
    }
   ],
   "source": [
    "import numpy as np\n",
    "\n",
    "\n",
    "a=2.7\n",
    "b=6.3\n",
    "\n",
    "cand_a=2.0\n",
    "cand_b=5.0\n",
    "import matplotlib.pyplot as plt\n",
    "import scipy.stats as st\n",
    "%matplotlib inline\n",
    "shape=2.0\n",
    "scale=2.0\n",
    "cand_y=[]\n",
    "\n",
    "for i in range(0,20000):\n",
    "    y = np.random.beta(cand_a,cand_b)\n",
    "    u = np.random.uniform(0,1)\n",
    "    if(u<st.beta.pdf(y,a,b)/st.beta.pdf(y,cand_a,cand_b)):\n",
    "        cand_y.append(y)\n",
    "print \"acceptance rate\"\n",
    "print len(cand_y)/20000.0\n",
    "\n",
    "count, bins, ignored = plt.hist(cand_y, 50, normed=True)\n",
    "y = np.array([st.beta.pdf(i,2.7,6.3) for i in bins])\n",
    "plt.plot(bins, y, linewidth=2, color='r')\n",
    "plt.show()"
   ]
  },
  {
   "cell_type": "code",
   "execution_count": null,
   "metadata": {
    "collapsed": true
   },
   "outputs": [],
   "source": []
  }
 ],
 "metadata": {
  "kernelspec": {
   "display_name": "Python 2",
   "language": "python",
   "name": "python2"
  },
  "language_info": {
   "codemirror_mode": {
    "name": "ipython",
    "version": 2
   },
   "file_extension": ".py",
   "mimetype": "text/x-python",
   "name": "python",
   "nbconvert_exporter": "python",
   "pygments_lexer": "ipython2",
   "version": "2.7.6"
  }
 },
 "nbformat": 4,
 "nbformat_minor": 0
}
