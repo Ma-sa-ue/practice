{
 "cells": [
  {
   "cell_type": "code",
   "execution_count": 103,
   "metadata": {
    "collapsed": true
   },
   "outputs": [],
   "source": [
    "import numpy as np\n",
    "import csv\n",
    "from sklearn.metrics import confusion_matrix"
   ]
  },
  {
   "cell_type": "code",
   "execution_count": 39,
   "metadata": {
    "collapsed": false
   },
   "outputs": [
    {
     "name": "stdout",
     "output_type": "stream",
     "text": [
      "(1000, 256)\n",
      "(400, 256)\n"
     ]
    }
   ],
   "source": [
    "train =[]\n",
    "test = []\n",
    "for i in range(2):\n",
    "    with open(\"/Users/masatoshi/Documents/sugiyama/digit/digit_train\"+str(i)+\".csv\", 'r') as f:\n",
    "        reader = csv.reader(f)\n",
    "        pesdo = []\n",
    "        for row in reader:\n",
    "            row = map(float,row)\n",
    "            train.append(row)\n",
    "train = np.array(train) \n",
    "\n",
    "print train.shape\n",
    "\n",
    "for i in range(2):\n",
    "    with open(\"/Users/masatoshi/Documents/sugiyama/digit/digit_test\"+str(i)+\".csv\", 'r') as f:\n",
    "        reader = csv.reader(f)\n",
    "        for row in reader:\n",
    "            row = map(float,row)\n",
    "            test.append(row)\n",
    "test = np.array(test) \n",
    "print test.shape"
   ]
  },
  {
   "cell_type": "code",
   "execution_count": 112,
   "metadata": {
    "collapsed": false
   },
   "outputs": [
    {
     "name": "stdout",
     "output_type": "stream",
     "text": [
      "[[200   0]\n",
      " [  0 200]]\n"
     ]
    }
   ],
   "source": [
    "mean_list = []\n",
    "var_list = []\n",
    "\n",
    "for i in range(2):\n",
    "    start = i*500\n",
    "    end = i*500 + 500\n",
    "    mean_list.append(np.mean(train[start:end],0))\n",
    "    var_list.append(np.cov(np.transpose(train[start:end])))\n",
    "    \n",
    "### mean and var\n",
    "mean1 = mean_list[0]\n",
    "mean2 = mean_list[1]\n",
    "var1 = var_list[0]\n",
    "var2 = var_list[1]\n",
    "var = 0.5*var1 + 0.5*var2 + np.identity(256)*0.00000001\n",
    "###print var[0]\n",
    "\n",
    "### calcualte a\n",
    "a = np.linalg.solve(var,mean1- mean2)\n",
    "#### calculate b\n",
    "s1 = np.dot(np.dot(np.transpose(mean1),np.linalg.inv(var)),mean1)\n",
    "s2 = np.dot(np.dot(np.transpose(mean2),np.linalg.inv(var)),mean2)\n",
    "b = -0.5*(s1-s2)\n",
    "\n",
    "#### judge function\n",
    "def judge(x):\n",
    "    c = np.dot(a,x)+b\n",
    "    if(c>0):\n",
    "        return 1\n",
    "    else:\n",
    "        return 0\n",
    "\n",
    "#### generate y_true\n",
    "y_true_1 = np.array([1 for i in range(200)])\n",
    "y_true_2 = np.array([0 for i in range(200)])\n",
    "y_true = np.concatenate([y_true_1,y_true_2])\n",
    "\n",
    "#### prediction\n",
    "judge_result = map(judge,test)\n",
    "\n",
    "### result\n",
    "print confusion_matrix(y_true,judge_result)"
   ]
  }
 ],
 "metadata": {
  "kernelspec": {
   "display_name": "Python 2",
   "language": "python",
   "name": "python2"
  },
  "language_info": {
   "codemirror_mode": {
    "name": "ipython",
    "version": 2
   },
   "file_extension": ".py",
   "mimetype": "text/x-python",
   "name": "python",
   "nbconvert_exporter": "python",
   "pygments_lexer": "ipython2",
   "version": "2.7.6"
  }
 },
 "nbformat": 4,
 "nbformat_minor": 0
}
