{
 "cells": [
  {
   "cell_type": "markdown",
   "metadata": {},
   "source": [
    "### Gaussian_process basic\n",
    "\n",
    "x is determistic.\n",
    "\n",
    "w is probalistic.\n",
    "\n",
    "y is probalistic.\n",
    "\n",
    "$t_n = y_n + \\epsilon _n$\n",
    "\n",
    "$p(t|Y)=N(t|y,\\beta^{-1}I_{N})$\n",
    "\n",
    "$p(y) = N(y|0,K)$\n",
    "\n",
    "$ y= k(x)^{T}(K+\\lambda *I_N)^{-1}t$\n",
    "\n",
    "my_kernel is as follows.\n",
    "\n",
    "$k(x_n,x_m)=\\theta_{0}exo(-\\theta_1*0.5*(x_n-x_m^{2}))+\\theta_{2} +\\theta_{3}x_{n}^{t} x_{m}$"
   ]
  },
  {
   "cell_type": "code",
   "execution_count": 57,
   "metadata": {
    "collapsed": true
   },
   "outputs": [],
   "source": [
    "import numpy as np\n",
    "import matplotlib.pyplot as plt\n",
    "\n",
    "%matplotlib inline\n"
   ]
  },
  {
   "cell_type": "code",
   "execution_count": 65,
   "metadata": {
    "collapsed": true
   },
   "outputs": [],
   "source": [
    "#### kernel\n",
    "def my_kernel(x_n,x_m,a_1=30.0,a_2=25,a_3=1.0,a_4=10.0):\n",
    "    return a_1*np.exp(-a_2*0.5*np.dot(x_n-x_m,x_n-x_m))+a_3+a_4*np.dot(x_n-x_m,x_n-x_m)\n",
    "    "
   ]
  },
  {
   "cell_type": "code",
   "execution_count": 66,
   "metadata": {
    "collapsed": false
   },
   "outputs": [],
   "source": [
    "###generate samples\n",
    "x=np.array([0.000000,0.111111,0.222222,0.333333,0.444444,0.555556,0.666667,0.777778,0.888889,1.000000])\n",
    "t=np.array([0.349486,0.830839,1.007332,0.971507,0.133066,0.166823,-0.848307,-0.445686,-0.563567,0.261502])"
   ]
  },
  {
   "cell_type": "code",
   "execution_count": 67,
   "metadata": {
    "collapsed": false
   },
   "outputs": [
    {
     "data": {
      "image/png": "[encoded data removed]",
      "text/plain": [
       "<matplotlib.figure.Figure at 0x117211850>"
      ]
     },
     "metadata": {},
     "output_type": "display_data"
    }
   ],
   "source": [
    "### gram matrix\n",
    "a=np.array([my_kernel(i,j) for i in x for j in x])\n",
    "K = a.reshape([10,10])\n",
    "#### prediction\n",
    "def pred(new,x,K,t):\n",
    "    aux = np.array([my_kernel(i,new) for i in x])\n",
    "    return np.dot(aux,np.dot(np.linalg.inv(np.identity(10)+K),t))\n",
    "  \n",
    "x_ziku = np.linspace(0,1,100)\n",
    "y_ziku = [ pred(i,x,K,t) for i in x_ziku]\n",
    "plt.scatter(x,t)\n",
    "plt.plot(x_ziku,y_ziku)\n",
    "plt.show()"
   ]
  }
 ],
 "metadata": {
  "kernelspec": {
   "display_name": "Python 2",
   "language": "python",
   "name": "python2"
  },
  "language_info": {
   "codemirror_mode": {
    "name": "ipython",
    "version": 2
   },
   "file_extension": ".py",
   "mimetype": "text/x-python",
   "name": "python",
   "nbconvert_exporter": "python",
   "pygments_lexer": "ipython2",
   "version": "2.7.6"
  }
 },
 "nbformat": 4,
 "nbformat_minor": 0
}
