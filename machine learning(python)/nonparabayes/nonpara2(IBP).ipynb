{
 "cells": [
  {
   "cell_type": "code",
   "execution_count": 1,
   "metadata": {
    "collapsed": true
   },
   "outputs": [],
   "source": [
    "import numpy as np\n",
    "import scipy as sp\n",
    "import scipy.stats as st\n",
    "import matplotlib.pyplot as plt\n",
    "####import seaborn\n",
    "%matplotlib inline"
   ]
  },
  {
   "cell_type": "code",
   "execution_count": 17,
   "metadata": {
    "collapsed": false
   },
   "outputs": [
    {
     "data": {
      "image/png": "[encoded data removed]",
      "text/plain": [
       "<matplotlib.figure.Figure at 0x11429fdd0>"
      ]
     },
     "metadata": {},
     "output_type": "display_data"
    }
   ],
   "source": [
    "\n",
    "def get_ibp(alpha):\n",
    "    z = np.zeros([15,30])\n",
    "    new = 0\n",
    "    for j in range(15):\n",
    "        ### old phase\n",
    "        to_beru = np.sum(z,0)\n",
    "        for k in range(new):\n",
    "            z[j,k]=np.random.binomial(1,to_beru[k]*1.0/(j+1))\n",
    "        ### new phase\n",
    "        new_alpha = alpha*1.0/(j+1)\n",
    "        new_to_add = np.random.poisson(new_alpha)\n",
    "        z[j,new:new+new_to_add]=1\n",
    "        #### old phase\n",
    "        ##for k in range(len(new_to_add)):        \n",
    "        ### update new\n",
    "        new = new+new_to_add\n",
    "    return z\n",
    "\n",
    "para =[1.0,4.0,9.0]\n",
    "plt.figure(figsize=(16,5))\n",
    "for i in range(3):\n",
    "    plt.subplot(1,3,i+1)\n",
    "    plt.title(\"alpha=\"+str(para[i]))\n",
    "    hoge = get_ibp(para[i])\n",
    "    plt.imshow(hoge,interpolation='none' )\n",
    "plt.savefig(\"IBP.png\")\n",
    "plt.show()"
   ]
  },
  {
   "cell_type": "code",
   "execution_count": 57,
   "metadata": {
    "collapsed": false
   },
   "outputs": [
    {
     "name": "stdout",
     "output_type": "stream",
     "text": [
      "(4, 1, 25)\n"
     ]
    },
    {
     "data": {
      "image/png": "[encoded data removed]",
      "text/plain": [
       "<matplotlib.figure.Figure at 0x11421e890>"
      ]
     },
     "metadata": {},
     "output_type": "display_data"
    },
    {
     "data": {
      "image/png": "[encoded data removed]",
      "text/plain": [
       "<matplotlib.figure.Figure at 0x114299c90>"
      ]
     },
     "metadata": {},
     "output_type": "display_data"
    }
   ],
   "source": [
    "#### generate sample\n",
    "n = 20\n",
    "true_z = []\n",
    "for i in range(4): \n",
    "    true_z.append(np.zeros(25).reshape(5,5))\n",
    "    if i==0:\n",
    "        true_z[i][0:3,0:3]=1\n",
    "    elif i==1:\n",
    "        true_z[i][0:3,3:5]=1\n",
    "        true_z[i][0,2]=1\n",
    "        true_z[i][3,4]=1\n",
    "    elif i==2:\n",
    "        true_z[i][3:5,0:3]=1\n",
    "        true_z[i][0,0]=1\n",
    "        true_z[i][4,2]=0\n",
    "    elif i==3:\n",
    "        true_z[i][3:5,2:5]=1\n",
    "\n",
    "    \n",
    "true_z_flat2 = np.array([i.reshape(1,25) for i in true_z])\n",
    "print true_z_flat2.shape\n",
    "true_z_flat2 = np.transpose(true_z_flat2.reshape(4,25))\n",
    "\n",
    "for i in range(4):\n",
    "    plt.subplot(2,2,i+1)\n",
    "    plt.imshow(true_z[i],interpolation='none')\n",
    "plt.show()\n",
    "\n",
    "plt.imshow(true_z_flat2,interpolation='none')\n",
    "plt.show()\n"
   ]
  },
  {
   "cell_type": "code",
   "execution_count": 92,
   "metadata": {
    "collapsed": false
   },
   "outputs": [
    {
     "data": {
      "image/png": "[encoded data removed]",
      "text/plain": [
       "<matplotlib.figure.Figure at 0x115811110>"
      ]
     },
     "metadata": {},
     "output_type": "display_data"
    }
   ],
   "source": [
    "xxx = np.random.normal(0,2.0,4*n).reshape(4,n)\n",
    "yyy = np.dot(true_z_flat2,xxx) + np.random.normal(0,0.1,25*n).reshape((25,n))\n",
    "\n",
    "plt.figure(figsize=(8,8))\n",
    "plt.subplot(1,3,3)\n",
    "plt.tick_params(labelbottom='off')\n",
    "plt.tick_params(labelleft='off')\n",
    "plt.imshow(xxx,interpolation='none')\n",
    "plt.subplot(1,3,1)\n",
    "plt.tick_params(labelbottom='off')\n",
    "plt.tick_params(labelleft='off')\n",
    "plt.imshow(yyy,interpolation='none')\n",
    "plt.subplot(1,3,2)\n",
    "plt.tick_params(labelbottom='off')\n",
    "plt.tick_params(labelleft='off')\n",
    "plt.imshow(true_z_flat2,interpolation='none')\n",
    "plt.savefig(\"situation.png\")\n",
    "plt.show()"
   ]
  },
  {
   "cell_type": "code",
   "execution_count": 139,
   "metadata": {
    "collapsed": false
   },
   "outputs": [],
   "source": [
    "def factorial(n):\n",
    "    if n==0:\n",
    "        return 1\n",
    "    elif n>=1:\n",
    "        return n*factorial(n-1)\n"
   ]
  },
  {
   "cell_type": "code",
   "execution_count": 41,
   "metadata": {
    "collapsed": false
   },
   "outputs": [],
   "source": [
    "def poisson_pdf(_lambda,x):\n",
    "    return np.power(_lambda,x)*np.exp(-_lambda)*1.0/factorial(x)\n",
    "\n",
    "def gibbs_for_z(i,k,z,Y,X,sigma_y,alpha,N):\n",
    "    ###### first calculate n_i_k\n",
    "    pesdo_n_i_k = np.sum(z,0)[k]\n",
    "    if z[i,k]==1:\n",
    "        n_i_k = pesdo_n_i_k -1\n",
    "    else:\n",
    "        n_i_k = pesdo_n_i_k\n",
    "    \n",
    "    hoge1 = pesdo_n_i_k*1.0/N\n",
    "    hoge0 = 1-hoge1\n",
    "    ##### calculate likelihood\n",
    "    z1 = np.copy(z[i,:].reshape(z.shape[1]))\n",
    "    z1[k]=1\n",
    "    mean1 = np.dot(z1,X)\n",
    "    z2 = np.copy(z[i,:].reshape(z.shape[1]))\n",
    "    z2[k]=0\n",
    "    mean2 = np.dot(z2,X)\n",
    "    sigma = np.identity(20)*sigma_y\n",
    "    hoge3 = st.multivariate_normal.pdf(Y[i],mean1,sigma)*hoge1\n",
    "    hoge4 = st.multivariate_normal.pdf(Y[i],mean2,sigma)*hoge0\n",
    "    return np.random.binomial(1,hoge3*1.0/(hoge3+hoge4))\n",
    "\n",
    "def gibbs_for_m(i,z,Y,X,sigma_y,sigma_x,alpha,N):\n",
    "    sigma = np.identity(20)*sigma_y\n",
    "    new_x = np.random.normal(0,2.0,100).reshape((5,20))\n",
    "    candidate_list = []\n",
    "    for j in range(4):\n",
    "        p0 = poisson_pdf(alpha*1.0/N,j)\n",
    "        hoge = st.multivariate_normal.pdf(Y[i],np.dot(z[i,:],X)+np.sum(new_x[0:j],0),sigma_y)\n",
    "        candidate_list.append(p0*hoge)\n",
    "    candidate_list = candidate_list/np.sum(np.array(candidate_list))\n",
    "    multi_list = np.random.multinomial(1,candidate_list)\n",
    "    for kkk in range(5):\n",
    "        if multi_list[kkk]==1:\n",
    "            newx = np.concatenate([X,new_x[0:kkk]])\n",
    "            newz = np.concatenate([z,np.zeros(Y.shape[0]*4).reshape((Y.shape[0],4))[:,0:kkk]],1)\n",
    "            if kkk!=0:\n",
    "                newz[i,z.shape[1]:z.shape[1]+kkk] = 1\n",
    "            return [newx,newz]\n",
    "\n",
    "def gibbs_for_x(z,Y,X,sigma_y,sigma_x,alpha,N):\n",
    "    newx = []\n",
    "    inverse_vx = np.dot(np.transpose(z),z)+sigma_y*1.0/sigma_x*np.identity(z.shape[1])\n",
    "    vx = np.linalg.inv(inverse_vx)\n",
    "    vxy = sigma_y*vx\n",
    "    for i in range(Y.shape[1]):\n",
    "        yi = Y[:,i]\n",
    "        mean = np.dot(vx,np.dot(np.transpose(z),yi))\n",
    "        variance = vxy\n",
    "        newx.append(np.random.multivariate_normal(mean,vxy))\n",
    "    return np.transpose(np.array(newx))\n"
   ]
  },
  {
   "cell_type": "code",
   "execution_count": 137,
   "metadata": {
    "collapsed": false
   },
   "outputs": [],
   "source": [
    "x = np.random.normal(0,2.0,1*n).reshape(1,n)\n",
    "true_z_flat = np.random.binomial(1,0.1,25).reshape((25,1))"
   ]
  },
  {
   "cell_type": "code",
   "execution_count": 138,
   "metadata": {
    "collapsed": false
   },
   "outputs": [
    {
     "data": {
      "image/png": "[encoded data removed]",
      "text/plain": [
       "<matplotlib.figure.Figure at 0x1155c9cd0>"
      ]
     },
     "metadata": {},
     "output_type": "display_data"
    }
   ],
   "source": [
    "alpha = 1\n",
    "plt.figure(figsize=(16,5))\n",
    "for sss in range(36):    \n",
    "    i,j = true_z_flat.shape\n",
    "    pesdo_z = np.zeros(i*j).reshape((i,j))\n",
    "    #####\n",
    "    pesdo_z = np.zeros(i*j).reshape((i,j))\n",
    "    for kk1 in range(i):\n",
    "        for kk2 in range(j):\n",
    "            pesdo_z[kk1,kk2] = gibbs_for_z(kk1,kk2,true_z_flat,yyy,x,0.3,alpha,n)\n",
    "    true_z_flat = pesdo_z\n",
    "    #######\n",
    "    for j in range(25):\n",
    "        x,true_z_flat = gibbs_for_m(j,true_z_flat,yyy,x,0.3,2.0,alpha,n)\n",
    "    if sss%3==0:\n",
    "        plt.subplot(1,12,sss/3+1)\n",
    "        plt.imshow(true_z_flat,interpolation='none')\n",
    "        plt.title(str(sss)+\"steps\")\n",
    "        plt.axis('off')\n",
    "    ############\n",
    "    x= gibbs_for_x(true_z_flat,yyy,x,0.3,2.0,alpha,n)\n",
    "##plt.savefig(\"ibp.png\")\n",
    "plt.show()"
   ]
  },
  {
   "cell_type": "code",
   "execution_count": 146,
   "metadata": {
    "collapsed": false
   },
   "outputs": [
    {
     "data": {
      "image/png": "[encoded data removed]",
      "text/plain": [
       "<matplotlib.figure.Figure at 0x114cca690>"
      ]
     },
     "metadata": {},
     "output_type": "display_data"
    }
   ],
   "source": [
    "plt.imshow(true_z_flat2,interpolation='none')\n",
    "plt.title(\"true z\")\n",
    "plt.axis('off')\n",
    "###plt.savefig(\"true_z.png\")\n",
    "plt.show()"
   ]
  }
 ],
 "metadata": {
  "kernelspec": {
   "display_name": "Python 2",
   "language": "python",
   "name": "python2"
  },
  "language_info": {
   "codemirror_mode": {
    "name": "ipython",
    "version": 2
   },
   "file_extension": ".py",
   "mimetype": "text/x-python",
   "name": "python",
   "nbconvert_exporter": "python",
   "pygments_lexer": "ipython2",
   "version": "2.7.6"
  }
 },
 "nbformat": 4,
 "nbformat_minor": 0
}
