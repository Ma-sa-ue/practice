{
 "cells": [
  {
   "cell_type": "code",
   "execution_count": 3,
   "metadata": {
    "collapsed": true
   },
   "outputs": [],
   "source": [
    "import numpy as np\n",
    "import scipy as sp\n",
    "import matplotlib.pyplot as plt\n",
    "import scipy.stats as st\n",
    "%matplotlib inline"
   ]
  },
  {
   "cell_type": "code",
   "execution_count": 72,
   "metadata": {
    "collapsed": false
   },
   "outputs": [
    {
     "data": {
      "image/png": "[encoded data removed]",
      "text/plain": [
       "<matplotlib.figure.Figure at 0x113db5310>"
      ]
     },
     "metadata": {},
     "output_type": "display_data"
    }
   ],
   "source": [
    "#### generate samples\n",
    "\n",
    "def mypdf(x):\n",
    "    return 0.2*st.norm.pdf(x,loc=-2,scale=1)+0.8*st.norm.pdf(x,loc=4,scale=1)\n",
    "\n",
    "x = np.linspace(-10,10,1000)\n",
    "y = np.array([mypdf(x[i]) for i in range(1000)])\n",
    "plt.plot(x,y)\n",
    "plt.show()"
   ]
  },
  {
   "cell_type": "code",
   "execution_count": 73,
   "metadata": {
    "collapsed": true
   },
   "outputs": [],
   "source": [
    "x0 = 0\n",
    "N = 9000\n",
    "T_list = [1-i*1.0/(N+100) for i in range(N)]\n",
    "### use randomwalk\n",
    "def prosposal_dist(x):\n",
    "    return x + np.random.normal(0,0.2)\n",
    "\n",
    "x = x0\n",
    "x_list = []"
   ]
  },
  {
   "cell_type": "code",
   "execution_count": 74,
   "metadata": {
    "collapsed": false
   },
   "outputs": [],
   "source": [
    "#### main function\n",
    "for i in range(N):\n",
    "    u = np.random.uniform(0,1)\n",
    "    candidate = prosposal_dist(x)\n",
    "    judger = np.min([1.0,np.power(mypdf(candidate),1.0/T_list[i])*1.0/np.power(mypdf(x),1.0/T_list[i])])\n",
    "    if u<judger:\n",
    "        x = candidate\n",
    "        x_list.append(x)\n",
    "\n"
   ]
  },
  {
   "cell_type": "code",
   "execution_count": 79,
   "metadata": {
    "collapsed": false
   },
   "outputs": [
    {
     "name": "stdout",
     "output_type": "stream",
     "text": [
      "0.885\n"
     ]
    },
    {
     "data": {
      "image/png": "[encoded data removed]",
      "text/plain": [
       "<matplotlib.figure.Figure at 0x113f5e3d0>"
      ]
     },
     "metadata": {},
     "output_type": "display_data"
    }
   ],
   "source": [
    "### result\n",
    "print len(x_list)*1.0/N ###acceptance rate\n",
    "plt.hist(x_list)\n",
    "plt.show()"
   ]
  }
 ],
 "metadata": {
  "kernelspec": {
   "display_name": "Python 2",
   "language": "python",
   "name": "python2"
  },
  "language_info": {
   "codemirror_mode": {
    "name": "ipython",
    "version": 2
   },
   "file_extension": ".py",
   "mimetype": "text/x-python",
   "name": "python",
   "nbconvert_exporter": "python",
   "pygments_lexer": "ipython2",
   "version": "2.7.6"
  }
 },
 "nbformat": 4,
 "nbformat_minor": 0
}
