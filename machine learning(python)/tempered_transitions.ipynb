{
 "cells": [
  {
   "cell_type": "code",
   "execution_count": 1,
   "metadata": {
    "collapsed": true
   },
   "outputs": [],
   "source": [
    "import numpy as np\n",
    "import scipy as sp\n",
    "import matplotlib.pyplot as plt\n",
    "import scipy.stats as st\n",
    "%matplotlib inline"
   ]
  },
  {
   "cell_type": "code",
   "execution_count": 32,
   "metadata": {
    "collapsed": false
   },
   "outputs": [
    {
     "data": {
      "image/png": "[encoded data removed]",
      "text/plain": [
       "<matplotlib.figure.Figure at 0x10e9d91d0>"
      ]
     },
     "metadata": {},
     "output_type": "display_data"
    }
   ],
   "source": [
    "#### generate samples\n",
    "\n",
    "def mypdf(x):\n",
    "    y=[]\n",
    "    for i in range(3):\n",
    "        y.append(1.0/5*st.norm.pdf(x,loc=-4+4*i,scale=1.0))\n",
    "    return np.sum(np.array(y))\n",
    "\n",
    "def notnormalize(x):\n",
    "    y=[]\n",
    "    for i in range(3):\n",
    "        y.append(1.0/5*st.norm.pdf(x,loc=-4+4*i,scale=1.0))\n",
    "    return -np.log(np.sum(np.array(y)))\n",
    "\n",
    "x = np.linspace(-8,8,300)\n",
    "y = np.array([mypdf(x[i]) for i in range(300)])\n",
    "plt.plot(x,y)\n",
    "plt.show()"
   ]
  },
  {
   "cell_type": "code",
   "execution_count": 28,
   "metadata": {
    "collapsed": true
   },
   "outputs": [],
   "source": [
    "beta_list = np.array([1.0/np.power(2,i*0.5) for i in range(51)])\n",
    "\n",
    "def sample(x):\n",
    "    new =[]\n",
    "    for i in range(100):\n",
    "        new.append(x)\n",
    "        x = x+np.random.normal(0,0.1)\n",
    "    return new\n",
    "\n",
    "def energy(xlist,betaliest):\n",
    "    positive =[]\n",
    "    for i in range(50):\n",
    "        positive.append((betaliest[i]-betaliest[i+1])*notnormalize(xlist[99-i]))\n",
    "    negative =[]\n",
    "    for i in range(50):\n",
    "        negative.append((betaliest[i]-betaliest[i+1])*notnormalize(xlist[i]))\n",
    "    return np.sum(np.array(positive)-np.array(negative))"
   ]
  },
  {
   "cell_type": "code",
   "execution_count": null,
   "metadata": {
    "collapsed": true
   },
   "outputs": [],
   "source": [
    "x=0.0\n",
    "sample_list =[]\n",
    "for i in range(3000):\n",
    "    x_list = sample(x)\n",
    "    candidate = x_list[-1]\n",
    "    u = np.random.uniform(0,1)\n",
    "    alpha = np.exp(-energy(x_list,beta_list))\n",
    "    ###print alpha\n",
    "    judge = np.min([1,alpha])\n",
    "    if judge>u:\n",
    "        x = candidate\n",
    "        sample_list.append(candidate)\n",
    "        "
   ]
  },
  {
   "cell_type": "code",
   "execution_count": 36,
   "metadata": {
    "collapsed": false
   },
   "outputs": [
    {
     "data": {
      "image/png": "[encoded data removed]",
      "text/plain": [
       "<matplotlib.figure.Figure at 0x10eab5410>"
      ]
     },
     "metadata": {},
     "output_type": "display_data"
    }
   ],
   "source": [
    "plt.hist(sample_list,bins=50)\n",
    "plt.show()"
   ]
  }
 ],
 "metadata": {
  "kernelspec": {
   "display_name": "Python 2",
   "language": "python",
   "name": "python2"
  },
  "language_info": {
   "codemirror_mode": {
    "name": "ipython",
    "version": 2
   },
   "file_extension": ".py",
   "mimetype": "text/x-python",
   "name": "python",
   "nbconvert_exporter": "python",
   "pygments_lexer": "ipython2",
   "version": "2.7.6"
  }
 },
 "nbformat": 4,
 "nbformat_minor": 0
}
