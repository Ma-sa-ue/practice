{
 "cells": [
  {
   "cell_type": "markdown",
   "metadata": {},
   "source": [
    "\n",
    "## Monte-calro-EM algorithm\n",
    "\n",
    "\n",
    "$(x_1,x_2,x_3,x_4)$ are gathered from the multinomial dist\n",
    "\n",
    "$M(n;0.5+0.25*\\theta,0.25*(1-\\theta),0.25*(1-\\theta),0.25*\\theta)$\n",
    "\n",
    "estimation is easier if $x_1$ cell is split into two cells(z_1,z_2). so we create the augmented model.\n"
   ]
  },
  {
   "cell_type": "code",
   "execution_count": 107,
   "metadata": {
    "collapsed": false
   },
   "outputs": [
    {
     "name": "stdout",
     "output_type": "stream",
     "text": [
      "[8 6 5 1]\n",
      "[28 17 10  5]\n"
     ]
    }
   ],
   "source": [
    "### first generate samples\n",
    "\n",
    "import numpy as np\n",
    "\n",
    "theta = 0.3\n",
    "n=20\n",
    "size = 3\n",
    "c = np.random.multinomial(n,[0.5+theta/4,0.25*(1-theta),0.25*(1-theta),0.25*theta],size)\n",
    "\n",
    "print c[0]\n",
    "x= c.sum(0)\n",
    "print x"
   ]
  },
  {
   "cell_type": "code",
   "execution_count": 108,
   "metadata": {
    "collapsed": false
   },
   "outputs": [
    {
     "name": "stdout",
     "output_type": "stream",
     "text": [
      "0.224784434688\n"
     ]
    },
    {
     "data": {
      "image/png": "[encoded data removed]",
      "text/plain": [
       "<matplotlib.figure.Figure at 0x1080f9650>"
      ]
     },
     "metadata": {},
     "output_type": "display_data"
    }
   ],
   "source": [
    "import matplotlib.pyplot as plt\n",
    "import scipy.stats as st\n",
    "%matplotlib inline\n",
    "## initilize\n",
    "\n",
    "####normal EM-algorithm\n",
    "### initilize\n",
    "theta = 0.05\n",
    "theta_array1=[]\n",
    "for i in range(0,40):\n",
    "    ###E-step we find the p(Z|x_1,x_2,x_3,x_4,theta_old)\n",
    "    z_2 = theta/(theta+2)*x[0]\n",
    "    ###M=step\n",
    "    theta = (z_2+x[3])/(z_2 + x[1]+x[2]+x[3])\n",
    "    theta_array1.append(theta)\n",
    "\n",
    "print theta\n",
    "#### Monte-calro-EM algorithm\n",
    "theta = 0.05\n",
    "theta_array2=[]\n",
    "for i in range(0,40):\n",
    "    ###E-step we find the p(Z|x_1,x_2,x_3,x_4,theta_old)\n",
    "    hey = theta/(theta+2)\n",
    "    z_monte = np.random.binomial(x[0],hey,n).mean()\n",
    "    ###M=step\n",
    "    theta = (z_monte+x[3])/(z_monte + x[1]+x[2]+x[3])\n",
    "    theta_array2.append(theta)\n",
    "    \n",
    "### Immportance-EM-algorithm\n",
    "theta_old=0.27\n",
    "hey2 = theta_old/(theta_old+2)\n",
    "z_monte2= np.random.binomial(x[0],hey2,n)\n",
    "###print z_monte2\n",
    "impo1= [st.binom.pmf(i,n*size,hey2) for i in z_monte2]\n",
    "#######\n",
    "theta = 0.2\n",
    "theta_array3=[]\n",
    "\n",
    "for i in range(0,40):\n",
    "    hey = theta/(theta+2)\n",
    "    ### E-step we find the p(Z|x_1,x_2,x_3,x_4,theta_old)\n",
    "    impo2= [st.binom.pmf(i,n*size,hey) for i in z_monte2]\n",
    "    wegiht = np.array(impo2)/np.array(impo1)\n",
    "    z_monte = (z_monte2*wegiht).mean()\n",
    "    ###print z_monte\n",
    "    ### M-step\n",
    "    theta = (z_monte+x[3])/(z_monte + x[1]+x[2]+x[3])  \n",
    "    theta_array3.append(theta)\n",
    "\n",
    "plt.plot(theta_array1) ## normal-EM algorithm\n",
    "plt.plot(theta_array2,color=\"green\") ## monte-calro em-algorithm\n",
    "plt.plot(theta_array3,color=\"red\") ## importance-em-algorithm\n",
    "plt.show()"
   ]
  }
 ],
 "metadata": {
  "kernelspec": {
   "display_name": "Python 2",
   "language": "python",
   "name": "python2"
  },
  "language_info": {
   "codemirror_mode": {
    "name": "ipython",
    "version": 2
   },
   "file_extension": ".py",
   "mimetype": "text/x-python",
   "name": "python",
   "nbconvert_exporter": "python",
   "pygments_lexer": "ipython2",
   "version": "2.7.6"
  }
 },
 "nbformat": 4,
 "nbformat_minor": 0
}
